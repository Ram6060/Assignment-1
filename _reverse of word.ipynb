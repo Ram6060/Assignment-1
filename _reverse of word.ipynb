{
 "cells": [
  {
   "cell_type": "markdown",
   "id": "1221d956",
   "metadata": {},
   "source": [
    "# Write a Python program that accepts a word from the user and reverse it.\n",
    "\n"
   ]
  },
  {
   "cell_type": "code",
   "execution_count": 3,
   "id": "2d4cce3a",
   "metadata": {},
   "outputs": [
    {
     "name": "stdout",
     "output_type": "stream",
     "text": [
      "enter a word is: ram\n",
      "the orginal word is: ram\n",
      "the reverse word is: mar \n"
     ]
    }
   ],
   "source": [
    "a = input(\"enter a word is: \")\n",
    "b = \" \"\n",
    "for i in a:\n",
    "    b=i+b\n",
    "print(\"the orginal word is:\",a)  \n",
    "print(\"the reverse word is:\",b)"
   ]
  },
  {
   "cell_type": "code",
   "execution_count": null,
   "id": "c3c3258a",
   "metadata": {},
   "outputs": [],
   "source": []
  }
 ],
 "metadata": {
  "kernelspec": {
   "display_name": "Python 3 (ipykernel)",
   "language": "python",
   "name": "python3"
  },
  "language_info": {
   "codemirror_mode": {
    "name": "ipython",
    "version": 3
   },
   "file_extension": ".py",
   "mimetype": "text/x-python",
   "name": "python",
   "nbconvert_exporter": "python",
   "pygments_lexer": "ipython3",
   "version": "3.11.1"
  }
 },
 "nbformat": 4,
 "nbformat_minor": 5
}
